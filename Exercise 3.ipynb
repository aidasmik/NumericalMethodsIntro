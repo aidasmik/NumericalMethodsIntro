{
 "cells": [
  {
   "cell_type": "markdown",
   "id": "6e75bbc5",
   "metadata": {
    "id": "6e75bbc5"
   },
   "source": [
    "# Numerical Methods I\n",
    "\n",
    "marijus.ambrozas@ff.vu.lt  \n",
    "stepas.toliautas@ff.vu.lt\n",
    "\n",
    "https://emokymai.vu.lt/course/view.php?id=7559"
   ]
  },
  {
   "cell_type": "markdown",
   "id": "6qsoAfgvdsnY",
   "metadata": {
    "id": "6qsoAfgvdsnY"
   },
   "source": [
    "***\n",
    "\n",
    "# Exercise 3. Python refresher II: flow control, loops, files, debugging\n",
    "\n",
    "Today we will learn more about bool logic, how to use loops, how to read/write files, and how to fix errors and debug your code."
   ]
  },
  {
   "cell_type": "markdown",
   "id": "m6oomUhHM_MH",
   "metadata": {
    "id": "m6oomUhHM_MH"
   },
   "source": [
    "***\n",
    "\n",
    "1) Initialize a new int `x` > 0 which determines how many items you are buying in a store. The items are priced as follows:  \n",
    "\n",
    "If you are buying less than 50 items, you pay 2 EUR each.  \n",
    "If you are buying at least 50 items, you pay 1.5 EUR each.  \n",
    "If you are buying at least 100 items, you pay 1 EUR each.  \n",
    "\n",
    "Print the total cost for `x` items."
   ]
  },
  {
   "cell_type": "code",
   "execution_count": null,
   "id": "BPhR3lWGOXbG",
   "metadata": {
    "id": "BPhR3lWGOXbG"
   },
   "outputs": [],
   "source": [
    "x = 75  # Number of items being purchased\n",
    "\n",
    "if x < 50:\n",
    "    total_cost = x * 2\n",
    "elif x < 100:\n",
    "    total_cost = x * 1.5\n",
    "else:\n",
    "    total_cost = x * 1\n",
    "\n",
    "print(\"Total cost for\", x, \"items:\", total_cost, \"EUR\")\n"
   ]
  },
  {
   "cell_type": "markdown",
   "id": "3a2636d4",
   "metadata": {
    "id": "3a2636d4"
   },
   "source": [
    "***\n",
    "\n",
    "2) Print the first `x` prime numbers (2, 3, 5, 7, ...).  \n",
    "Save the resulting list of prime numbers to a text file. Open this file and see if the data is correct."
   ]
  },
  {
   "cell_type": "code",
   "execution_count": null,
   "id": "Fo46ojGFiSUO",
   "metadata": {
    "id": "Fo46ojGFiSUO"
   },
   "outputs": [],
   "source": [
    "def is_prime(n):\n",
    "    \"\"\"Function to check if a number is prime.\"\"\"\n",
    "    if n <= 1:\n",
    "        return False\n",
    "    elif n <= 3:\n",
    "        return True\n",
    "    elif n % 2 == 0 or n % 3 == 0:\n",
    "        return False\n",
    "    i = 5\n",
    "    while i * i <= n:\n",
    "        if n % i == 0 or n % (i + 2) == 0:\n",
    "            return False\n",
    "        i += 6\n",
    "    return True\n",
    "\n",
    "def generate_primes(x):\n",
    "    \"\"\"Function to generate the first x prime numbers.\"\"\"\n",
    "    primes = []\n",
    "    num = 2\n",
    "    while len(primes) < x:\n",
    "        if is_prime(num):\n",
    "            primes.append(num)\n",
    "        num += 1\n",
    "    return primes\n",
    "\n",
    "def save_to_file(primes, filename):\n",
    "    \"\"\"Function to save a list of prime numbers to a text file.\"\"\"\n",
    "    with open(filename, 'w') as file:\n",
    "        for prime in primes:\n",
    "            file.write(str(prime) + '\\n')\n",
    "\n",
    "# Number of prime numbers to generate\n",
    "x = 10\n",
    "\n",
    "# Generate the first x prime numbers\n",
    "prime_numbers = generate_primes(x)\n",
    "\n",
    "# Print the prime numbers\n",
    "print(\"First\", x, \"prime numbers:\", prime_numbers)\n",
    "\n",
    "# Save the prime numbers to a text file\n",
    "filename = \"prime_numbers.txt\"\n",
    "save_to_file(prime_numbers, filename)\n",
    "\n",
    "# Open the file and print its contents\n",
    "with open(filename, 'r') as file:\n",
    "    print(\"\\nContents of\", filename, \":\")\n",
    "    for line in file:\n",
    "        print(line.strip())\n"
   ]
  },
  {
   "cell_type": "markdown",
   "id": "2ed158cd",
   "metadata": {
    "id": "2ed158cd"
   },
   "source": [
    "***\n",
    "\n",
    "3) From the list below, create two new lists containing the odd and even numbers of the original list. Print how many odd and even numbers there are in total.  \n",
    "\n",
    "Reminder: use `len()` to get how many elements there are in a sequence."
   ]
  },
  {
   "cell_type": "code",
   "execution_count": null,
   "id": "2106c07f",
   "metadata": {
    "id": "2106c07f"
   },
   "outputs": [],
   "source": [
    "list_below = list(range(0, 20))\n",
    "\n",
    "# Initialize lists to store odd and even numbers\n",
    "odd_numbers = []\n",
    "even_numbers = []\n",
    "\n",
    "# Separate odd and even numbers\n",
    "for num in list_below:\n",
    "    if num % 2 == 0:\n",
    "        even_numbers.append(num)\n",
    "    else:\n",
    "        odd_numbers.append(num)\n",
    "\n",
    "# Print the odd and even numbers\n",
    "print(\"Odd numbers:\", odd_numbers)\n",
    "print(\"Even numbers:\", even_numbers)\n",
    "\n",
    "# Print the counts of odd and even numbers\n",
    "print(\"Total odd numbers:\", len(odd_numbers))\n",
    "print(\"Total even numbers:\", len(even_numbers))\n"
   ]
  },
  {
   "cell_type": "markdown",
   "id": "91ea455d",
   "metadata": {
    "id": "91ea455d"
   },
   "source": [
    "***\n",
    "\n",
    "4) Below is a list of people. Say hello to all of them - for example, \"Hello, Sam!\"\n",
    "\n",
    "Reminder: you can merge strings with `new_string = string_1 + string_2`"
   ]
  },
  {
   "cell_type": "code",
   "execution_count": null,
   "id": "d493ff92",
   "metadata": {
    "id": "d493ff92"
   },
   "outputs": [],
   "source": [
    "names = [\"Sam\", \"Lisa\", \"Micha\", \"Dave\", \"Wyatt\", \"Emma\", \"Sage\"]\n",
    "\n",
    "# Say hello to each person\n",
    "for name in names:\n",
    "    print(\"Hello,\", name + \"!\")"
   ]
  },
  {
   "cell_type": "markdown",
   "id": "98fd75e9",
   "metadata": {
    "id": "98fd75e9"
   },
   "source": [
    "***\n",
    "\n",
    "5) Below is a list of numbers. Create a new list containing their squares, using a `while` loop."
   ]
  },
  {
   "cell_type": "code",
   "execution_count": null,
   "id": "9a2c6334",
   "metadata": {
    "id": "9a2c6334"
   },
   "outputs": [],
   "source": [
    "list_num = list(range(2, 10))  # Original list of numbers\n",
    "squares = []  # New list to store the squares\n",
    "\n",
    "# Calculate squares using a while loop\n",
    "index = 0\n",
    "while index < len(list_num):\n",
    "    square = list_num[index] ** 2\n",
    "    squares.append(square)\n",
    "    index += 1\n",
    "\n",
    "print(\"Original list:\", list_num)\n",
    "print(\"Squares list:\", squares)\n"
   ]
  },
  {
   "cell_type": "markdown",
   "id": "F-ArzxV2Kpye",
   "metadata": {
    "id": "F-ArzxV2Kpye"
   },
   "source": [
    "***\n",
    "\n",
    "6) Ask the user to input one letter and place it into a new string variable `x`. Print whether this character is a consonant or a vowel. Assume the letter can be lowercase or uppercase.  \n",
    "\n",
    "Hint: use `new_x = x.upper()` to turn the letter into a capital, or `new_x = x.lower()` to turn the letter into lowercase. Also, check the code snippet below."
   ]
  },
  {
   "cell_type": "code",
   "execution_count": null,
   "id": "-emdrhkbK7Zk",
   "metadata": {
    "colab": {
     "base_uri": "https://localhost:8080/"
    },
    "executionInfo": {
     "elapsed": 0,
     "status": "ok",
     "timestamp": 1676723572850,
     "user": {
      "displayName": "Edvinas Gvozdiovas",
      "userId": "04847692509802459400"
     },
     "user_tz": 0
    },
    "id": "-emdrhkbK7Zk",
    "outputId": "e9f61548-a2a8-4d2b-8846-efcb5685615f"
   },
   "outputs": [],
   "source": [
    "# Prompt the user to input a letter\n",
    "x = input(\"Please enter a letter: \")\n",
    "\n",
    "# Convert the input letter to lowercase for easier comparison\n",
    "x = x.lower()\n",
    "\n",
    "# Define strings containing consonants and vowels\n",
    "consonants = 'bcdfghjklmnpqrstvwxyz'\n",
    "vowels = 'aeiou'\n",
    "\n",
    "# Check if the input letter is a consonant or a vowel\n",
    "if x in consonants:\n",
    "    print(x, \"is a consonant.\")\n",
    "elif x in vowels:\n",
    "    print(x, \"is a vowel.\")\n",
    "else:\n",
    "    print(\"Invalid input. Please enter a single letter.\")\n"
   ]
  },
  {
   "cell_type": "markdown",
   "id": "XexTe_A16_qS",
   "metadata": {
    "id": "XexTe_A16_qS"
   },
   "source": [
    "***\n",
    "\n",
    "7) Fix the following code sample."
   ]
  },
  {
   "cell_type": "code",
   "execution_count": null,
   "id": "616434af-c0a9-4d9b-b2c6-453bb19f5472",
   "metadata": {},
   "outputs": [],
   "source": [
    "number_1 = input(\"Enter the first number to be added: \")\n",
    "number_2 = input(\"Enter the second number to be added: \")\n",
    "\n",
    "# Convert input strings to integers\n",
    "number_1 = int(number_1)\n",
    "number_2 = int(number_2)\n",
    "\n",
    "# Perform addition\n",
    "sum_result = number_1 + number_2\n",
    "\n",
    "# Print the sum\n",
    "print(f\"The sum of your numbers is {sum_result}\")\n"
   ]
  },
  {
   "cell_type": "markdown",
   "id": "451003c1-3e1d-4371-b5f3-a41464020688",
   "metadata": {
    "id": "XexTe_A16_qS"
   },
   "source": [
    "***\n",
    "\n",
    "8) Fix the following code sample."
   ]
  },
  {
   "cell_type": "code",
   "execution_count": 4,
   "id": "8dcefec3-5c77-427a-8dec-bd2461454ceb",
   "metadata": {},
   "outputs": [
    {
     "name": "stdout",
     "output_type": "stream",
     "text": [
      "5...\n",
      "4...\n",
      "3...\n",
      "2...\n",
      "1...\n",
      "Deleting Windows...\n",
      "Just kidding.\n"
     ]
    }
   ],
   "source": [
    "import time\n",
    "countdown = 5\n",
    "while countdown > 0:\n",
    "     print(f\"{countdown}...\")\n",
    "     time.sleep(1)\n",
    "     if countdown == 1:\n",
    "        print(\"Deleting Windows...\")\n",
    "        time.sleep(3)\n",
    "        print(\"Just kidding.\")\n",
    "    \n",
    "     countdown -= 1"
   ]
  },
  {
   "cell_type": "markdown",
   "id": "fdc8d932-3409-4a21-9ce6-6092cb3a4ccc",
   "metadata": {
    "id": "XexTe_A16_qS"
   },
   "source": [
    "***\n",
    "\n",
    "9) Fix the following samples of code."
   ]
  },
  {
   "cell_type": "code",
   "execution_count": 6,
   "id": "JqrvTiydEXt7",
   "metadata": {
    "id": "JqrvTiydEXt7"
   },
   "outputs": [
    {
     "name": "stdout",
     "output_type": "stream",
     "text": [
      "90\n"
     ]
    }
   ],
   "source": [
    "#Sum all even numbers up to some given number\n",
    "number = 10\n",
    "i = 1\n",
    "total = 0\n",
    "while i < number:\n",
    "    if number % 2 == 0:\n",
    "        total = total + number\n",
    "    i = i + 1\n",
    "\n",
    "print(total)"
   ]
  },
  {
   "cell_type": "code",
   "execution_count": 15,
   "id": "V7xEUFkL_MjF",
   "metadata": {
    "id": "V7xEUFkL_MjF"
   },
   "outputs": [
    {
     "ename": "TypeError",
     "evalue": "'int' object is not callable",
     "output_type": "error",
     "traceback": [
      "\u001b[1;31m---------------------------------------------------------------------------\u001b[0m",
      "\u001b[1;31mTypeError\u001b[0m                                 Traceback (most recent call last)",
      "Cell \u001b[1;32mIn[15], line 7\u001b[0m\n\u001b[0;32m      4\u001b[0m manual_sum \u001b[38;5;241m=\u001b[39m \u001b[38;5;241m1\u001b[39m \u001b[38;5;241m+\u001b[39m \u001b[38;5;241m2\u001b[39m \u001b[38;5;241m+\u001b[39m \u001b[38;5;241m3\u001b[39m\n\u001b[0;32m      6\u001b[0m \u001b[38;5;66;03m# Sum the list using the sum() function\u001b[39;00m\n\u001b[1;32m----> 7\u001b[0m new_sum \u001b[38;5;241m=\u001b[39m \u001b[38;5;28;43msum\u001b[39;49m\u001b[43m(\u001b[49m\u001b[43mmy_list\u001b[49m\u001b[43m)\u001b[49m\n\u001b[0;32m      9\u001b[0m \u001b[38;5;28mprint\u001b[39m(\u001b[38;5;124m\"\u001b[39m\u001b[38;5;124mSum calculated manually:\u001b[39m\u001b[38;5;124m\"\u001b[39m, manual_sum)\n\u001b[0;32m     10\u001b[0m \u001b[38;5;28mprint\u001b[39m(\u001b[38;5;124m\"\u001b[39m\u001b[38;5;124mSum calculated using sum() function:\u001b[39m\u001b[38;5;124m\"\u001b[39m, new_sum)\n",
      "\u001b[1;31mTypeError\u001b[0m: 'int' object is not callable"
     ]
    }
   ],
   "source": [
    "my_list = [1, 2, 3]\n",
    "\n",
    "# Sum the list manually\n",
    "manual_sum = 1 + 2 + 3\n",
    "\n",
    "# Sum the list using the sum() function\n",
    "new_sum = sum(my_list)\n",
    "\n",
    "print(\"Sum calculated manually:\", manual_sum)\n",
    "print(\"Sum calculated using sum() function:\", new_sum)\n"
   ]
  },
  {
   "cell_type": "markdown",
   "id": "zgp9D5CVduA0",
   "metadata": {
    "id": "zgp9D5CVduA0"
   },
   "source": [
    "***\n",
    "\n",
    "10) Fix the following samples of code."
   ]
  },
  {
   "cell_type": "code",
   "execution_count": null,
   "id": "EpDp2z1Hj_qr",
   "metadata": {
    "id": "EpDp2z1Hj_qr"
   },
   "outputs": [],
   "source": [
    "#Find minimum in list\n",
    "new_list = [5000, 50, 60, 99, 70, 3, 1, 2, 3000, 200]\n",
    "my_min = 0\n",
    "for x in range(1, len(new_list)):\n",
    "    if new_list[x] < my_min:\n",
    "        my_min = new_list[x]\n",
    "print(\"Minimum in list is\", my_min)"
   ]
  },
  {
   "cell_type": "code",
   "execution_count": null,
   "id": "AW9goqGuj_Qp",
   "metadata": {
    "id": "AW9goqGuj_Qp"
   },
   "outputs": [],
   "source": [
    "#List BMI of all patients in the list\n",
    "patients = [[70, 1.8], [80, 1.9], [150, 1.7]]\n",
    "i=1\n",
    "for patient in patients:\n",
    "    weight, height = patients[0]\n",
    "    bmi = weight / (height**2)\n",
    "    print(\"Patient\", i, \"has BMI\", bmi)\n",
    "    i = i + 1"
   ]
  }
 ],
 "metadata": {
  "colab": {
   "provenance": []
  },
  "kernelspec": {
   "display_name": "Python 3 (ipykernel)",
   "language": "python",
   "name": "python3"
  },
  "language_info": {
   "codemirror_mode": {
    "name": "ipython",
    "version": 3
   },
   "file_extension": ".py",
   "mimetype": "text/x-python",
   "name": "python",
   "nbconvert_exporter": "python",
   "pygments_lexer": "ipython3",
   "version": "3.11.8"
  }
 },
 "nbformat": 4,
 "nbformat_minor": 5
}
