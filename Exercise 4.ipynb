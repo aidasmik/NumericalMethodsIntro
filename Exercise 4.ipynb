{
 "cells": [
  {
   "cell_type": "markdown",
   "id": "6e75bbc5",
   "metadata": {
    "id": "6e75bbc5"
   },
   "source": [
    "# Numerical Methods I\n",
    "\n",
    "marijus.ambrozas@ff.vu.lt  \n",
    "stepas.toliautas@ff.vu.lt  \n",
    "\n",
    "https://emokymai.vu.lt/course/view.php?id=7559"
   ]
  },
  {
   "cell_type": "markdown",
   "id": "6qsoAfgvdsnY",
   "metadata": {
    "id": "6qsoAfgvdsnY"
   },
   "source": [
    "***\n",
    "\n",
    "# Exercise 4. Functions, recursion"
   ]
  },
  {
   "cell_type": "markdown",
   "id": "a6f1a104",
   "metadata": {
    "id": "a6f1a104"
   },
   "source": [
    "***\n",
    "1) Debug the following code."
   ]
  },
  {
   "cell_type": "code",
   "execution_count": 1,
   "id": "f7157c9a",
   "metadata": {
    "id": "f7157c9a"
   },
   "outputs": [
    {
     "name": "stdout",
     "output_type": "stream",
     "text": [
      "0.6\n"
     ]
    }
   ],
   "source": [
    "def div2(b, a=1):\n",
    "    result = a / b\n",
    "    return result\n",
    "\n",
    "num1 = 3\n",
    "num2 = 5\n",
    "\n",
    "print(div2(num2, num1))\n"
   ]
  },
  {
   "cell_type": "markdown",
   "id": "19ff2727",
   "metadata": {
    "id": "19ff2727"
   },
   "source": [
    "***\n",
    "2) Write a function that takes two numbers `a` and `b`, and returns $a^b$. See if it works."
   ]
  },
  {
   "cell_type": "code",
   "execution_count": 2,
   "id": "1c848351",
   "metadata": {
    "id": "1c848351"
   },
   "outputs": [
    {
     "name": "stdout",
     "output_type": "stream",
     "text": [
      "2 raised to the power of 3 is 8\n"
     ]
    }
   ],
   "source": [
    "def power(a, b):\n",
    "    \"\"\"\n",
    "    Function to calculate the power of a number.\n",
    "    \n",
    "    Parameters:\n",
    "        a (int or float): The base number.\n",
    "        b (int or float): The exponent.\n",
    "    \n",
    "    Returns:\n",
    "        int or float: The result of raising 'a' to the power of 'b'.\n",
    "    \"\"\"\n",
    "    return a ** b\n",
    "\n",
    "# Test the function\n",
    "num1 = 2\n",
    "num2 = 3\n",
    "result = power(num1, num2)\n",
    "print(f\"{num1} raised to the power of {num2} is {result}\")\n"
   ]
  },
  {
   "cell_type": "markdown",
   "id": "04dd9511",
   "metadata": {
    "id": "04dd9511"
   },
   "source": [
    "***\n",
    "3) Write a function called `fix_grammar()` that takes a string `input_sentence` containing some words, and prints it with a fixed grammatical structure:  \n",
    "\n",
    "The first letter of the first word has to be capitalized  \n",
    "The name `Bob` should be written with a first capital letter  \n",
    "There must be a single space between each word  \n",
    "The sentence has to end with a period `.`  \n",
    "(Optional) There should be a comma `,` after `Hello`, and before `and`.\n",
    "\n",
    "Test it on a given sentence."
   ]
  },
  {
   "cell_type": "code",
   "execution_count": 3,
   "id": "8a63d8b6",
   "metadata": {
    "id": "8a63d8b6"
   },
   "outputs": [
    {
     "name": "stdout",
     "output_type": "stream",
     "text": [
      "Hello my name is Bob , and welcome to my crib.\n"
     ]
    }
   ],
   "source": [
    "def fix_grammar(input_sentence):\n",
    "    \"\"\"\n",
    "    Function to fix the grammatical structure of a sentence.\n",
    "\n",
    "    Parameters:\n",
    "        input_sentence (str): The input sentence to be fixed.\n",
    "\n",
    "    Returns:\n",
    "        str: The fixed sentence with correct grammar.\n",
    "    \"\"\"\n",
    "    # Capitalize the first letter of the first word\n",
    "    input_sentence = input_sentence.capitalize()\n",
    "\n",
    "    # Replace 'bob' with 'Bob'\n",
    "    input_sentence = input_sentence.replace('bob', 'Bob')\n",
    "\n",
    "    # Add a comma after 'Hello' and before 'and'\n",
    "    input_sentence = input_sentence.replace('hello', 'Hello,').replace('and', ', and')\n",
    "\n",
    "    # Add a period at the end if not present\n",
    "    if not input_sentence.endswith('.'):\n",
    "        input_sentence += '.'\n",
    "\n",
    "    return input_sentence\n",
    "\n",
    "# Test the function\n",
    "input_sentence = \"hello my name is bob and welcome to my crib\"\n",
    "fixed_sentence = fix_grammar(input_sentence)\n",
    "print(fixed_sentence)\n"
   ]
  },
  {
   "cell_type": "markdown",
   "id": "7c43bc4e",
   "metadata": {
    "id": "7c43bc4e"
   },
   "source": [
    "***\n",
    "4) Below is a list, inside of which there are 3 lists.  \n",
    "\n",
    "a) Create a function `list_multiply()` that takes a list of numbers, and returns the multiplication of all the list elements.  \n",
    "b) Go over each smaller list in `numlist` and print their individual multiplication results using the function in a). The output should be 3 separate numbers.\n",
    "\n",
    "Hint: take a look at the example below."
   ]
  },
  {
   "cell_type": "code",
   "execution_count": null,
   "id": "c6e2edd7",
   "metadata": {
    "colab": {
     "base_uri": "https://localhost:8080/"
    },
    "executionInfo": {
     "elapsed": 0,
     "status": "ok",
     "timestamp": 1676885461105,
     "user": {
      "displayName": "Edvinas Gvozdiovas",
      "userId": "04847692509802459400"
     },
     "user_tz": 0
    },
    "id": "c6e2edd7",
    "outputId": "68598c1e-6fa5-4061-9740-cc085162485f"
   },
   "outputs": [],
   "source": [
    "def list_multiply(num_list):\n",
    "    \"\"\"\n",
    "    Function to calculate the multiplication of all the elements in a list.\n",
    "\n",
    "    Parameters:\n",
    "        num_list (list): A list of numbers.\n",
    "\n",
    "    Returns:\n",
    "        int or float: The result of multiplying all the numbers in the list.\n",
    "    \"\"\"\n",
    "    result = 1\n",
    "    for num in num_list:\n",
    "        result *= num\n",
    "    return result\n",
    "\n",
    "# List containing 3 smaller lists\n",
    "numlist = [[3, 5, 9], [2, 3, 6], [10, 5, 2]]\n",
    "\n",
    "# Iterate over each smaller list and print their individual multiplication results\n",
    "for temp_list in numlist:\n",
    "    multiplication_result = list_multiply(temp_list)\n",
    "    print(\"Multiplication result for\", temp_list, \":\", multiplication_result)\n"
   ]
  },
  {
   "cell_type": "markdown",
   "id": "b4f9ae09-0a75-4c48-8426-a51e0e8498aa",
   "metadata": {},
   "source": [
    "***\n",
    "\n",
    "5) Write a function that accepts 4 arguments: $x$, $a$, $b$, $c$, and returns the value of the following polynomial at point $x$:\n",
    "$$y = ax^2+bx+c.$$\n",
    "Set default values for $a$, $b$, and $c$ parameters: $a=0$, $b=1$, $c=-1$. Check if it works."
   ]
  },
  {
   "cell_type": "code",
   "execution_count": 4,
   "id": "073e1b14-b000-4f36-8a89-2da756ed3ee1",
   "metadata": {},
   "outputs": [
    {
     "name": "stdout",
     "output_type": "stream",
     "text": [
      "Polynomial evaluated at x=0: -1\n",
      "Polynomial evaluated at x=1: 0\n",
      "Polynomial evaluated at x=2: 1\n",
      "Polynomial evaluated at x=3: 2\n"
     ]
    }
   ],
   "source": [
    "def evaluate_polynomial(x, a=0, b=1, c=-1):\n",
    "    \"\"\"\n",
    "    Function to evaluate a polynomial at a given point x.\n",
    "\n",
    "    Parameters:\n",
    "        x (int or float): The point at which to evaluate the polynomial.\n",
    "        a (int or float): Coefficient of x^2 (default: 0).\n",
    "        b (int or float): Coefficient of x (default: 1).\n",
    "        c (int or float): Constant term (default: -1).\n",
    "\n",
    "    Returns:\n",
    "        int or float: The value of the polynomial at point x.\n",
    "    \"\"\"\n",
    "    return a * x**2 + b * x + c\n",
    "\n",
    "# Test the function with different values of x\n",
    "x_values = [0, 1, 2, 3]\n",
    "for x in x_values:\n",
    "    result = evaluate_polynomial(x)\n",
    "    print(f\"Polynomial evaluated at x={x}: {result}\")\n"
   ]
  },
  {
   "cell_type": "markdown",
   "id": "acf6f256",
   "metadata": {
    "id": "acf6f256"
   },
   "source": [
    "***\n",
    "6) Debug the following code."
   ]
  },
  {
   "cell_type": "code",
   "execution_count": 5,
   "id": "e91d5b44",
   "metadata": {
    "id": "e91d5b44",
    "outputId": "344e1ea1-f301-4462-9bd8-c12f0c5059a1"
   },
   "outputs": [
    {
     "name": "stdout",
     "output_type": "stream",
     "text": [
      "10\n"
     ]
    }
   ],
   "source": [
    "def increment(n):\n",
    "    return n + 1\n",
    "\n",
    "b = 9\n",
    "b = increment(b)\n",
    "print(b)\n"
   ]
  },
  {
   "cell_type": "markdown",
   "id": "508abfde",
   "metadata": {
    "id": "508abfde"
   },
   "source": [
    "***\n",
    "7) Write a function `yoda()` that takes a string containing a sentence, and reverses the order of the words. Print the result. Make sure only the first letter of the first word is capitalized, and that there is a period `.` at the end. Test it with the given sentence.\n",
    "\n",
    "Hint: you can use `some_list = some_string.split(\" \")` to split where there are spaces, which will create a `list`.  \n",
    "\n",
    "Use `some_list.reverse()` to reverse the order of elements in a list.\n",
    "\n",
    "Use `new_string = some_string.replace('a', 'b')` to replace all occurences of the character `a` in `some_string` with character `b`.\n",
    "\n",
    "Use `new_string = some_string.lower()` or `new_string = some_string.capitalize()` to turn the first letter of a word to lowercase or uppercase."
   ]
  },
  {
   "cell_type": "code",
   "execution_count": 7,
   "id": "4c4c3290",
   "metadata": {
    "id": "4c4c3290"
   },
   "outputs": [
    {
     "name": "stdout",
     "output_type": "stream",
     "text": [
      "Pringles. eat must I.\n"
     ]
    }
   ],
   "source": [
    "def yoda(sentence):\n",
    "    \"\"\"\n",
    "    Function to reverse the order of words in a sentence and format it like Yoda's speech.\n",
    "\n",
    "    Parameters:\n",
    "        sentence (str): The input sentence to be transformed.\n",
    "\n",
    "    Returns:\n",
    "        str: The reversed sentence with Yoda-like formatting.\n",
    "    \"\"\"\n",
    "    # Split the sentence into words\n",
    "    words = sentence.split()\n",
    "\n",
    "    # Reverse the order of words\n",
    "    words.reverse()\n",
    "\n",
    "    # Capitalize the first letter of the first word and make the rest lowercase\n",
    "    words[0] = words[0].capitalize()\n",
    "\n",
    "    # Join the words back into a sentence\n",
    "    reversed_sentence = ' '.join(words)\n",
    "\n",
    "    # Add a period at the end if not present\n",
    "    if not reversed_sentence.endswith('.'):\n",
    "        reversed_sentence += '.'\n",
    "\n",
    "    return reversed_sentence\n",
    "\n",
    "# Given sentence\n",
    "sentence_forward = \"I must eat Pringles.\"\n",
    "\n",
    "# Reverse the order of words and print the result\n",
    "reversed_sentence = yoda(sentence_forward)\n",
    "print(reversed_sentence)\n"
   ]
  },
  {
   "cell_type": "markdown",
   "id": "94ff4803-139c-4db3-9504-f238e9eb7ac2",
   "metadata": {},
   "source": [
    "***\n",
    "\n",
    "8) Write a function that accepts at least one input argument (but can accept more) and returns the difference between the largest and the smallest argument (i.e., it should return 0 if there is only one argument). Check if it works."
   ]
  },
  {
   "cell_type": "code",
   "execution_count": null,
   "id": "d72f60a8-7a87-4a92-a1d2-99ae09a7e6c5",
   "metadata": {},
   "outputs": [],
   "source": [
    "def difference(*args):\n",
    "    \"\"\"\n",
    "    Function to calculate the difference between the largest and smallest argument.\n",
    "\n",
    "    Parameters:\n",
    "        *args (float or int): Variable number of input arguments.\n",
    "\n",
    "    Returns:\n",
    "        float or int: The difference between the largest and smallest argument.\n",
    "    \"\"\"\n",
    "    if len(args) == 0:\n",
    "        return 0\n",
    "    else:\n",
    "        return max(args) - min(args)\n",
    "\n",
    "# Test the function with different number of arguments\n",
    "print(difference(5))                  # Output: 0 (Only one argument)\n",
    "print(difference(10, 5))              # Output: 5 (Difference between 10 and 5 is 5)\n",
    "print(difference(3, 8, 2, 10, 1))     # Output: 9 (Difference between 10 and 1 is 9)\n"
   ]
  },
  {
   "cell_type": "markdown",
   "id": "fdf46ede",
   "metadata": {
    "id": "fdf46ede"
   },
   "source": [
    "***\n",
    "9) Write a function `fibonacci(n)` that uses **recursion** to calculate the $n$-th number of the Fibonacci sequence. Assume that $n$ is a positive integer. See if it works.  \n",
    "\n",
    "The Fibonacci sequence is defined as follows:\n",
    "$$F_0=0, \\;\\;\\;\\;\\; F_1=1, \\;\\;\\;\\;\\; F_n = F_{n-2} + F_{n-1}.$$\n",
    "\n",
    "Hint: start with calculating $F_n$ (to calculate it you will need to find $F_{n-1}$ and $F_{n-2}$), and make sure there is an `if` statement returns 0 if $n=0$ and 1 if $n=1$."
   ]
  },
  {
   "cell_type": "code",
   "execution_count": 8,
   "id": "7497481f",
   "metadata": {
    "id": "7497481f"
   },
   "outputs": [
    {
     "name": "stdout",
     "output_type": "stream",
     "text": [
      "The 0-th Fibonacci number is 0\n",
      "The 1-th Fibonacci number is 1\n",
      "The 2-th Fibonacci number is 1\n",
      "The 3-th Fibonacci number is 2\n",
      "The 4-th Fibonacci number is 3\n",
      "The 5-th Fibonacci number is 5\n",
      "The 6-th Fibonacci number is 8\n",
      "The 7-th Fibonacci number is 13\n",
      "The 8-th Fibonacci number is 21\n",
      "The 9-th Fibonacci number is 34\n"
     ]
    }
   ],
   "source": [
    "def fibonacci(n):\n",
    "    \"\"\"\n",
    "    Function to calculate the n-th number of the Fibonacci sequence using recursion.\n",
    "\n",
    "    Parameters:\n",
    "        n (int): The index of the Fibonacci number to be calculated.\n",
    "\n",
    "    Returns:\n",
    "        int: The n-th number of the Fibonacci sequence.\n",
    "    \"\"\"\n",
    "    if n == 0:\n",
    "        return 0\n",
    "    elif n == 1:\n",
    "        return 1\n",
    "    else:\n",
    "        return fibonacci(n - 1) + fibonacci(n - 2)\n",
    "\n",
    "# Test the function with different values of n\n",
    "for i in range(10):\n",
    "    result = fibonacci(i)\n",
    "    print(f\"The {i}-th Fibonacci number is {result}\")\n"
   ]
  },
  {
   "cell_type": "markdown",
   "id": "d3857ee2",
   "metadata": {
    "id": "d3857ee2"
   },
   "source": [
    "***\n",
    "10) Below is a list of numbers. Round them all to the first number after the decimal and print the resulting list.\n",
    "\n",
    "Hint: use Python's built-in function `round(number, order)` and `map()`. Both `number` and `order` will have to be lists of same length when using `map`.\n",
    "\n",
    "To repeat an item `n` times to create a list, do this: `[item] * n`  \n",
    "\n",
    "Use `len()` to find the length of a list."
   ]
  },
  {
   "cell_type": "code",
   "execution_count": 9,
   "id": "f3d6b4bd",
   "metadata": {
    "id": "f3d6b4bd"
   },
   "outputs": [
    {
     "name": "stdout",
     "output_type": "stream",
     "text": [
      "Original list of numbers: [3.14159, 2.71828, 1.41421, 4.6692, 6.28318]\n",
      "Rounded list of numbers: [3.1, 2.7, 1.4, 4.7, 6.3]\n"
     ]
    }
   ],
   "source": [
    "# Original list of numbers\n",
    "numbers = [3.14159, 2.71828, 1.41421, 4.6692, 6.28318]\n",
    "\n",
    "# Round each number to the first number after the decimal point\n",
    "rounded_numbers = list(map(lambda x: round(x, 1), numbers))\n",
    "\n",
    "# Print the resulting list\n",
    "print(\"Original list of numbers:\", numbers)\n",
    "print(\"Rounded list of numbers:\", rounded_numbers)\n"
   ]
  }
 ],
 "metadata": {
  "colab": {
   "provenance": []
  },
  "kernelspec": {
   "display_name": "Python 3 (ipykernel)",
   "language": "python",
   "name": "python3"
  },
  "language_info": {
   "codemirror_mode": {
    "name": "ipython",
    "version": 3
   },
   "file_extension": ".py",
   "mimetype": "text/x-python",
   "name": "python",
   "nbconvert_exporter": "python",
   "pygments_lexer": "ipython3",
   "version": "3.11.8"
  }
 },
 "nbformat": 4,
 "nbformat_minor": 5
}
