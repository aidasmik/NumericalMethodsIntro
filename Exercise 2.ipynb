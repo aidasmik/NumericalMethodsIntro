{
 "cells": [
  {
   "cell_type": "markdown",
   "id": "6e75bbc5",
   "metadata": {
    "id": "6e75bbc5"
   },
   "source": [
    "# Numerical Methods I\n",
    "\n",
    "marijus.ambrozas@ff.vu.lt  \n",
    "stepas.toliautas@ff.vu.lt\n",
    "\n",
    "https://emokymai.vu.lt/course/view.php?id=7559\n",
    "\n",
    "***\n",
    "\n",
    "# Exercise 2. Python refresher I: variables, lists, basic operations\n",
    "\n",
    "Today we will recall (or learn) the basics of Python. \n",
    "\n",
    "We try to keep things short and sweet; if you really want to become an awesome Python programmer, we recommend that you follow the official Python documentation in parallel with these seminars. For this seminar we are following the [Built-in Types](https://docs.python.org/3/library/stdtypes.html#) section.\n",
    "\n",
    "***"
   ]
  },
  {
   "cell_type": "markdown",
   "id": "511e43ec",
   "metadata": {
    "id": "511e43ec"
   },
   "source": [
    "***\n",
    "\n",
    "1) Try to force the main data types -- `bool`, `int`, `float`, `string` -- to be other data types. For example, let's try forcing this string to be an integer:"
   ]
  },
  {
   "cell_type": "code",
   "execution_count": 11,
   "id": "6819dc88",
   "metadata": {
    "colab": {
     "base_uri": "https://localhost:8080/"
    },
    "executionInfo": {
     "elapsed": 350,
     "status": "ok",
     "timestamp": 1676278890573,
     "user": {
      "displayName": "Edvinas Gvozdiovas",
      "userId": "04847692509802459400"
     },
     "user_tz": 0
    },
    "id": "6819dc88",
    "outputId": "160d0497-9bd2-40af-dbca-e14f57abb41f",
    "scrolled": true
   },
   "outputs": [
    {
     "name": "stdout",
     "output_type": "stream",
     "text": [
      "2\n",
      "2.0\n",
      "True\n"
     ]
    }
   ],
   "source": [
    "print(int(\"2\"))\n",
    "print(float(\"2.0\"))\n",
    "print(bool(5))"
   ]
  },
  {
   "cell_type": "markdown",
   "id": "8bc39ee7",
   "metadata": {
    "id": "8bc39ee7"
   },
   "source": [
    "What if you try to convert a \"2.0\" string to an integer?  \n",
    "\n",
    "Try converting numbers and strings to bools. What happens? What does it take to convert any of the other types into a bool value `True`?\n",
    "\n",
    "Finally, try to convert integers, floats and strings to lists. Think about the results."
   ]
  },
  {
   "cell_type": "code",
   "execution_count": 18,
   "id": "6a699ece",
   "metadata": {
    "id": "6a699ece"
   },
   "outputs": [
    {
     "name": "stdout",
     "output_type": "stream",
     "text": [
      "['N', 'i', 'g', 'g', 'e', 'r']\n",
      "[1, 2, 3, 4, 5]\n",
      "[3.14, 2.718, 1.618]\n"
     ]
    }
   ],
   "source": [
    "print(list(\"Nigger\"))\n",
    "string = \"12345\"\n",
    "integer_list = [int(char) for char in string]\n",
    "print(integer_list) \n",
    "# Using list comprehension\n",
    "string = \"3.14 2.718 1.618\"\n",
    "float_list = [float(num) for num in string.split()]\n",
    "print(float_list)  # Output: [3.14, 2.718, 1.618]"
   ]
  },
  {
   "cell_type": "markdown",
   "id": "8f87d83d",
   "metadata": {
    "id": "8f87d83d"
   },
   "source": [
    "***\n",
    "\n",
    "2) Write a program to determine the area of a rectangle. Define the lengths of the sides, print them, and print the resulting area. Make sure the variable names are understandable to anyone who might read your code."
   ]
  },
  {
   "cell_type": "code",
   "execution_count": 19,
   "id": "2e8e3d0b",
   "metadata": {
    "id": "2e8e3d0b"
   },
   "outputs": [
    {
     "name": "stdout",
     "output_type": "stream",
     "text": [
      "12.96\n"
     ]
    }
   ],
   "source": [
    "x = float(input(\"1st side\")) \n",
    "y = float(input(\"2nd side\"))\n",
    "area = x*y\n",
    "print(area) "
   ]
  },
  {
   "cell_type": "markdown",
   "id": "76fd6b46",
   "metadata": {
    "id": "76fd6b46"
   },
   "source": [
    "***\n",
    "\n",
    "3) Write a program that adds two integers together given a string input like this:"
   ]
  },
  {
   "cell_type": "code",
   "execution_count": 21,
   "id": "5f09c58e",
   "metadata": {
    "id": "5f09c58e"
   },
   "outputs": [
    {
     "name": "stdout",
     "output_type": "stream",
     "text": [
      "8\n"
     ]
    }
   ],
   "source": [
    "ints_add = \"3 5\"\n",
    "add = ints_add.split(\" \")\n",
    "print(int(add[0])+int(add[1]))\n",
    "\n"
   ]
  },
  {
   "cell_type": "markdown",
   "id": "791c3195",
   "metadata": {
    "id": "791c3195"
   },
   "source": [
    "Hint: Look at [String Methods](https://docs.python.org/3/library/stdtypes.html#string-methods) in the Python Documentation to see what you can do with strings. Use `new_list = ints_add.split(\" \")` to split the string into a list, where each element separated by a space is now a separate item in the list."
   ]
  },
  {
   "cell_type": "markdown",
   "id": "31f3c044",
   "metadata": {
    "id": "31f3c044"
   },
   "source": [
    "***\n",
    "\n",
    "4) Write a program that adds two fractions and prints the result. The result can be a float (if you want, try to get the output to be a fraction). The input should be a string, e.g."
   ]
  },
  {
   "cell_type": "code",
   "execution_count": 39,
   "id": "f93b4397",
   "metadata": {
    "id": "f93b4397"
   },
   "outputs": [
    {
     "name": "stdout",
     "output_type": "stream",
     "text": [
      "4.928571428571429\n"
     ]
    }
   ],
   "source": [
    "fracs_add = \"3/7 + 9/2\"\n",
    "add = fracs_add.split()\n",
    "First = add[0].split(\"/\")\n",
    "Second = add[2].split(\"/\")\n",
    "result = int(First[0])/int(First[1])+ int(Second[0])/int(Second[1])\n",
    "print(result)"
   ]
  },
  {
   "cell_type": "markdown",
   "id": "6864ba1b",
   "metadata": {
    "id": "6864ba1b"
   },
   "source": [
    "Hint: this is similar to the exercise you just did with integers. Use `new_list = x.split(\"/\")` to extract the integers in the fractions:"
   ]
  },
  {
   "cell_type": "code",
   "execution_count": null,
   "id": "5a0ace39",
   "metadata": {
    "colab": {
     "base_uri": "https://localhost:8080/"
    },
    "executionInfo": {
     "elapsed": 0,
     "status": "ok",
     "timestamp": 1676560439221,
     "user": {
      "displayName": "Edvinas Gvozdiovas",
      "userId": "04847692509802459400"
     },
     "user_tz": 0
    },
    "id": "5a0ace39",
    "outputId": "28f2dbfc-52ed-4102-d211-943ec5b055a1"
   },
   "outputs": [],
   "source": [
    "left_fraction = \"3/7\"\n",
    "left_split = left_fraction.split(\"/\")\n",
    "print(left_split)"
   ]
  },
  {
   "cell_type": "markdown",
   "id": "d2ed2a35",
   "metadata": {
    "id": "d2ed2a35"
   },
   "source": [
    "***\n",
    "\n",
    "5) Write a program that asks the user to `input` the lengths of a right triangle's sides, and finds the length of the triangle's hypothenuse. Output the answer with two decimal digit accuracy.  \n",
    "Hint: you might find the `round()` function useful."
   ]
  },
  {
   "cell_type": "code",
   "execution_count": 40,
   "id": "1f5404d6",
   "metadata": {
    "id": "1f5404d6"
   },
   "outputs": [
    {
     "name": "stdout",
     "output_type": "stream",
     "text": [
      "7.0710678118654755\n"
     ]
    }
   ],
   "source": [
    "import math\n",
    "x = float(input(\"1st side\")) \n",
    "y = float(input(\"2nd side\"))\n",
    "z = math.sqrt(x*x+y*y)\n",
    "print(z)"
   ]
  },
  {
   "cell_type": "markdown",
   "id": "Pdmx9gddswGs",
   "metadata": {
    "id": "Pdmx9gddswGs"
   },
   "source": [
    "***\n",
    "\n",
    "6) Here is a list that describes income for every month in a year:"
   ]
  },
  {
   "cell_type": "code",
   "execution_count": null,
   "id": "CIF_UxsItVxa",
   "metadata": {
    "id": "CIF_UxsItVxa"
   },
   "outputs": [],
   "source": [
    "wages = [1000, 1200, 600, 800, 1200, 2000, 900, 700, 500, 800, 1200, 1500]\n",
    "print(min(wages), max(wages))\n",
    "print(wages.sort())"
   ]
  },
  {
   "cell_type": "markdown",
   "id": "rCUATA4gtiWY",
   "metadata": {
    "id": "rCUATA4gtiWY"
   },
   "source": [
    "Print the maximum, minimum monthly income. Use `min(mylist)`, `max(mylist)`\n",
    "\n",
    "Print the list sorted in ascending order. Use `mylist.sort()`\n",
    "\n",
    "Print the list sorted in descending order. Use the above method together with `mylist.reverse()`\n",
    "\n",
    "Find the total income over all the months. Use `sum()`\n",
    "\n",
    "Print how many elements there are in the list. Use `len()`\n",
    "\n",
    "Insert the number 959 after 2000 in the array and print the result. Use `mylist.insert(index, value)`\n",
    "\n",
    "Print how many times you earned 1200. Use `mylist.count(value)`\n",
    "\n",
    "Delete the 2nd, 3rd, 4th, 5th, 6th elements from the list and show the result. Use `del wages[index_start:index_end]`\n",
    "\n"
   ]
  },
  {
   "cell_type": "markdown",
   "id": "p3f7gXjHuH4g",
   "metadata": {
    "id": "p3f7gXjHuH4g"
   },
   "source": [
    "***\n",
    "\n",
    "7) Turn the below integer into a list, such that each decimal number (0-9) from the integer is now a separate item in the list."
   ]
  },
  {
   "cell_type": "code",
   "execution_count": null,
   "id": "rB_8aiTVuRUK",
   "metadata": {
    "id": "rB_8aiTVuRUK"
   },
   "outputs": [],
   "source": [
    "a = 123412321"
   ]
  },
  {
   "cell_type": "markdown",
   "id": "PPL_3wxZ4XaN",
   "metadata": {
    "id": "PPL_3wxZ4XaN"
   },
   "source": [
    "Hint: try forcing the integer to a list - why doesn't it do what we want? Try turning the int to a string first, then a list."
   ]
  },
  {
   "cell_type": "markdown",
   "id": "WlNezS0AudSE",
   "metadata": {
    "id": "WlNezS0AudSE"
   },
   "source": [
    "***\n",
    "\n",
    "8) Construct your name using elements from the alphabet string below:"
   ]
  },
  {
   "cell_type": "code",
   "execution_count": null,
   "id": "gtK36kd2uu5s",
   "metadata": {
    "colab": {
     "base_uri": "https://localhost:8080/"
    },
    "executionInfo": {
     "elapsed": 0,
     "status": "ok",
     "timestamp": 1676559898110,
     "user": {
      "displayName": "Edvinas Gvozdiovas",
      "userId": "04847692509802459400"
     },
     "user_tz": 0
    },
    "id": "gtK36kd2uu5s",
    "outputId": "2ee98aff-6e28-4f98-a53e-8fedb4c72fec"
   },
   "outputs": [],
   "source": [
    "import string\n",
    "alphabet = string.ascii_lowercase\n",
    "print(alphabet)"
   ]
  },
  {
   "cell_type": "markdown",
   "id": "9R42X9QGBEDa",
   "metadata": {
    "id": "9R42X9QGBEDa"
   },
   "source": [
    "Hint: You can merge strings with `new_string = string1 + string2`. Make the first letter a capital with `new_string = old_string.capitalize()`."
   ]
  },
  {
   "cell_type": "code",
   "execution_count": null,
   "id": "IePkx0PawE8J",
   "metadata": {
    "colab": {
     "base_uri": "https://localhost:8080/"
    },
    "executionInfo": {
     "elapsed": 0,
     "status": "ok",
     "timestamp": 1676560018746,
     "user": {
      "displayName": "Edvinas Gvozdiovas",
      "userId": "04847692509802459400"
     },
     "user_tz": 0
    },
    "id": "IePkx0PawE8J",
    "outputId": "80d34494-d794-4747-ea90-ab5f53124f5f"
   },
   "outputs": [],
   "source": []
  },
  {
   "cell_type": "markdown",
   "id": "1203e03d-c0fa-4977-baa0-4d5947a917d0",
   "metadata": {},
   "source": [
    "9) You have two lists below. Merge them into a single list by \"glueing\" them side-by-side.  \n",
    "Then, take the final three elements of this list, put them into a new, separate list, and remove them from the original list."
   ]
  },
  {
   "cell_type": "code",
   "execution_count": null,
   "id": "8d7a38c8-02a7-434a-bbbe-95914d974a5d",
   "metadata": {},
   "outputs": [],
   "source": [
    "list_1 = [4, 5, 2, 6, 3, 9]\n",
    "list_2 = [0, -1, 3.14, 0.01, -9999]"
   ]
  },
  {
   "cell_type": "markdown",
   "id": "Ugk5UZJV_PSm",
   "metadata": {
    "id": "Ugk5UZJV_PSm"
   },
   "source": [
    "***\n",
    "\n",
    "10) Below is a string. Change its first letter from `\"M\"` to `\"D\"`.  \n",
    "Are you having trouble? Remember (or check) some of the main differences between strings and lists and use it to your advantage."
   ]
  },
  {
   "cell_type": "code",
   "execution_count": null,
   "id": "gB7CMi5N_ZX7",
   "metadata": {
    "id": "gB7CMi5N_ZX7"
   },
   "outputs": [],
   "source": [
    "le_string = \"Monkey\""
   ]
  }
 ],
 "metadata": {
  "colab": {
   "collapsed_sections": [
    "6e75bbc5",
    "cXvvraOt8_qa",
    "a6c7a351",
    "f0b57190",
    "dc4742c7",
    "31b1d451",
    "f4e0042c",
    "6fde8995",
    "182e0648",
    "83f8db4a",
    "5d9bf99d",
    "b6b0ec40",
    "716d59ec",
    "a6061fc9"
   ],
   "provenance": []
  },
  "kernelspec": {
   "display_name": "Python 3 (ipykernel)",
   "language": "python",
   "name": "python3"
  },
  "language_info": {
   "codemirror_mode": {
    "name": "ipython",
    "version": 3
   },
   "file_extension": ".py",
   "mimetype": "text/x-python",
   "name": "python",
   "nbconvert_exporter": "python",
   "pygments_lexer": "ipython3",
   "version": "3.11.8"
  }
 },
 "nbformat": 4,
 "nbformat_minor": 5
}
