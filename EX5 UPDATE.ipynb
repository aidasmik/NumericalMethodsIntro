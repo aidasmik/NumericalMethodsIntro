{
 "cells": [
  {
   "cell_type": "markdown",
   "id": "6e75bbc5",
   "metadata": {
    "editable": true,
    "id": "6e75bbc5",
    "slideshow": {
     "slide_type": ""
    },
    "tags": []
   },
   "source": [
    "# Numerical Methods I\n",
    "\n",
    "marijus.ambrozas@ff.vu.lt  \n",
    "stepas.toliautas@ff.vu.lt\n",
    "\n",
    "https://emokymai.vu.lt/course/view.php?id=7559"
   ]
  },
  {
   "cell_type": "markdown",
   "id": "6qsoAfgvdsnY",
   "metadata": {
    "id": "6qsoAfgvdsnY"
   },
   "source": [
    "***\n",
    "\n",
    "# Exercise 5. Classes, methods, operators"
   ]
  },
  {
   "cell_type": "markdown",
   "id": "780071d1",
   "metadata": {
    "editable": true,
    "id": "780071d1",
    "slideshow": {
     "slide_type": ""
    },
    "tags": []
   },
   "source": [
    "***\n",
    "1) a) Create a class `Right_Triangle` that contains the orthogonal sides of a right triangle as attributes `side1, side2`.  \n",
    "b) Create a method for the class that calculates the area of the triangle. See if it works properly."
   ]
  },
  {
   "cell_type": "code",
   "execution_count": null,
   "id": "33509b22",
   "metadata": {
    "editable": true,
    "id": "33509b22",
    "slideshow": {
     "slide_type": ""
    },
    "tags": []
   },
   "outputs": [],
   "source": [
    "class Right_Triangle:\n",
    "    def __init__(self, side1, side2):\n",
    "        self.side1 = side1\n",
    "        self.side2 = side2\n",
    "    \n",
    "    def calculate_area(self):\n",
    "        area = 0.5 * self.side1 * self.side2\n",
    "        return area\n",
    "\n",
    "# Test the class\n",
    "triangle = Right_Triangle(3, 4)\n",
    "area = triangle.calculate_area()\n",
    "print(\"Area of the triangle:\", area)"
   ]
  },
  {
   "cell_type": "markdown",
   "id": "TKc6M4vbeEb2",
   "metadata": {
    "editable": true,
    "id": "TKc6M4vbeEb2",
    "slideshow": {
     "slide_type": ""
    },
    "tags": []
   },
   "source": [
    "2) Modify the `Right_Triangle` class:\n",
    "\n",
    "a) Add the ability to `print()` the triangle object (for example, by listing its sides).\n",
    "\n",
    "b) Add the ability to compare two triangles (by their area) using operators `<`, `>`, `==`.\n",
    "\n",
    "c) Add the ability to scale the triangle's sides using operator `*`.\n",
    "\n",
    "Uncomment the lines at the end as you work through. Can you get to the last line? What is the result?"
   ]
  },
  {
   "cell_type": "code",
   "execution_count": 5,
   "id": "TUX4TrOagdaw",
   "metadata": {
    "editable": true,
    "id": "TUX4TrOagdaw",
    "slideshow": {
     "slide_type": ""
    },
    "tags": []
   },
   "outputs": [
    {
     "name": "stdout",
     "output_type": "stream",
     "text": [
      "Triangle Right triangle with sides: 3, 4 has area of 6.0\n",
      "Triangle Right triangle with sides: 8, 6 has area of 24.0\n",
      "Is triangle 1 greater than 2? - False\n",
      "Is triangle 3 smaller than 2? - False\n",
      "Is triangle 3 equal to 2? - True\n"
     ]
    }
   ],
   "source": [
    "class Right_Triangle:\n",
    "    def __init__(self, side1, side2):\n",
    "        self.side1 = side1\n",
    "        self.side2 = side2\n",
    "    \n",
    "    def calculate_area(self):\n",
    "        area = 0.5 * self.side1 * self.side2\n",
    "        return area\n",
    "    \n",
    "    def __str__(self):\n",
    "        return f\"Right triangle with sides: {self.side1}, {self.side2}\"\n",
    "    \n",
    "    def __lt__(self, other):\n",
    "        return self.calculate_area() < other.calculate_area()\n",
    "    \n",
    "    def __gt__(self, other):\n",
    "        return self.calculate_area() > other.calculate_area()\n",
    "    \n",
    "    def __eq__(self, other):\n",
    "        return self.calculate_area() == other.calculate_area()\n",
    "    \n",
    "    def __mul__(self, scalar):\n",
    "        return Right_Triangle(self.side1 * scalar, self.side2 * scalar)\n",
    "\n",
    "tr1, tr2 = Right_Triangle(3,4), Right_Triangle(8,6)\n",
    "print (\"Triangle\", tr1, \"has area of\", tr1.calculate_area())\n",
    "print (\"Triangle\", tr2, \"has area of\", tr2.calculate_area())\n",
    "print (\"Is triangle 1 greater than 2? -\", tr1 > tr2)\n",
    "tr3 = tr1 * 2\n",
    "print (\"Is triangle 3 smaller than 2? -\", tr3 < tr2)\n",
    "print (\"Is triangle 3 equal to 2? -\", tr3 == tr2)\n"
   ]
  },
  {
   "cell_type": "markdown",
   "id": "f3ae761d",
   "metadata": {
    "editable": true,
    "id": "f3ae761d",
    "slideshow": {
     "slide_type": ""
    },
    "tags": []
   },
   "source": [
    "***\n",
    "3) Fix the following code. Hint: remember the difference between calling an attribute and a method."
   ]
  },
  {
   "cell_type": "code",
   "execution_count": 7,
   "id": "4264db60",
   "metadata": {
    "editable": true,
    "id": "4264db60",
    "slideshow": {
     "slide_type": ""
    },
    "tags": []
   },
   "outputs": [
    {
     "name": "stdout",
     "output_type": "stream",
     "text": [
      "Triangle with sides (5, 3, 9) and perimeter 17\n"
     ]
    }
   ],
   "source": [
    "class Triangle:\n",
    "    \n",
    "    def __init__(self, side1 = 0, side2=0, side3=0):\n",
    "        self.side1 = side1\n",
    "        self.side2 = side2\n",
    "        self.side3 = side3\n",
    "    \n",
    "    def perimeter(self):\n",
    "        return self.side1+self.side2+self.side3\n",
    "        \n",
    "    def __str__(self):\n",
    "        return f'Triangle with sides {self.side1, self.side2, self.side3} and perimeter {self.perimeter()}'\n",
    "\n",
    "my_triangle = Triangle(5,3,9)\n",
    "print(my_triangle)"
   ]
  },
  {
   "cell_type": "markdown",
   "id": "ef115598",
   "metadata": {
    "editable": true,
    "id": "ef115598",
    "slideshow": {
     "slide_type": ""
    },
    "tags": []
   },
   "source": [
    "***\n",
    "4) Modify the `Square()` class.  \n",
    "\n",
    "a) Make it so that `area` and `perimeter` are attributes.  \n",
    "\n",
    "b) Make it so that the attributes `side`, `area` and `perimeter` are calculated and initialized automatically if one of these parameters is given in the input.\n",
    "\n",
    "Test if your code works correctly.\n",
    "\n",
    "Hint: you have to do all of this inside the `__init__` block. Use `if/elif/else` statements."
   ]
  },
  {
   "cell_type": "code",
   "execution_count": 13,
   "id": "f8b3b0ea",
   "metadata": {
    "editable": true,
    "id": "f8b3b0ea",
    "slideshow": {
     "slide_type": ""
    },
    "tags": []
   },
   "outputs": [
    {
     "name": "stdout",
     "output_type": "stream",
     "text": [
      "Area of square1: 25\n",
      "Perimeter of square1: 20\n"
     ]
    },
    {
     "ename": "AttributeError",
     "evalue": "'Square' object has no attribute 'area'",
     "output_type": "error",
     "traceback": [
      "\u001b[1;31m---------------------------------------------------------------------------\u001b[0m",
      "\u001b[1;31mAttributeError\u001b[0m                            Traceback (most recent call last)",
      "Cell \u001b[1;32mIn[13], line 21\u001b[0m\n\u001b[0;32m     19\u001b[0m square2 \u001b[38;5;241m=\u001b[39m Square()  \u001b[38;5;66;03m# Initializing with default side length 0\u001b[39;00m\n\u001b[0;32m     20\u001b[0m square2\u001b[38;5;241m.\u001b[39mside \u001b[38;5;241m=\u001b[39m \u001b[38;5;241m8\u001b[39m  \u001b[38;5;66;03m# Updating side length\u001b[39;00m\n\u001b[1;32m---> 21\u001b[0m \u001b[38;5;28mprint\u001b[39m(\u001b[38;5;124m\"\u001b[39m\u001b[38;5;124mArea of square2:\u001b[39m\u001b[38;5;124m\"\u001b[39m, \u001b[43msquare2\u001b[49m\u001b[38;5;241;43m.\u001b[39;49m\u001b[43marea\u001b[49m)  \u001b[38;5;66;03m# Output: 64\u001b[39;00m\n\u001b[0;32m     22\u001b[0m \u001b[38;5;28mprint\u001b[39m(\u001b[38;5;124m\"\u001b[39m\u001b[38;5;124mPerimeter of square2:\u001b[39m\u001b[38;5;124m\"\u001b[39m, square2\u001b[38;5;241m.\u001b[39mperimeter)  \u001b[38;5;66;03m# Output: 32\u001b[39;00m\n",
      "\u001b[1;31mAttributeError\u001b[0m: 'Square' object has no attribute 'area'"
     ]
    }
   ],
   "source": [
    "class Square:\n",
    "    def __init__(self, side=0):\n",
    "        self.side = side\n",
    "        if side != 0:\n",
    "            self.calculate_area()\n",
    "            self.calculate_perimeter()\n",
    "    \n",
    "    def calculate_area(self):\n",
    "        self.area = self.side * self.side\n",
    "    \n",
    "    def calculate_perimeter(self):\n",
    "        self.perimeter = 4 * self.side\n",
    "\n",
    "# Testing the class\n",
    "square1 = Square(5)  # Initializing with side length 5\n",
    "print(\"Area of square1:\", square1.area)  # Output: 25\n",
    "print(\"Perimeter of square1:\", square1.perimeter)  # Output: 20\n",
    "\n",
    "square2 = Square()  # Initializing with default side length 0\n",
    "square2.side = 8  # Updating side length\n",
    "print(\"Area of square2:\", square2.area)  # Output: 64\n",
    "print(\"Perimeter of square2:\", square2.perimeter)  # Output: 32"
   ]
  },
  {
   "cell_type": "markdown",
   "id": "c9c4656b",
   "metadata": {
    "editable": true,
    "id": "c9c4656b",
    "slideshow": {
     "slide_type": ""
    },
    "tags": []
   },
   "source": [
    "***\n",
    "5) Fix the following code."
   ]
  },
  {
   "cell_type": "code",
   "execution_count": 14,
   "id": "def1203c",
   "metadata": {
    "editable": true,
    "id": "def1203c",
    "scrolled": true,
    "slideshow": {
     "slide_type": ""
    },
    "tags": []
   },
   "outputs": [
    {
     "name": "stdout",
     "output_type": "stream",
     "text": [
      "[\"Moe's Tavern\", 'Springfield Nuclear Power Plant']\n"
     ]
    }
   ],
   "source": [
    "class Traveler:\n",
    "    \n",
    "    visited = []\n",
    "\n",
    "    def __init__(self, name):\n",
    "        self.name = name\n",
    "\n",
    "    def add_location(self, location):\n",
    "        self.visited.append(location)\n",
    "    \n",
    "homer = Traveler('Homer')\n",
    "homer.add_location('Moe\\'s Tavern')\n",
    "homer.add_location('Springfield Nuclear Power Plant')\n",
    "print(homer.visited)"
   ]
  },
  {
   "cell_type": "markdown",
   "id": "f7c0249d",
   "metadata": {
    "editable": true,
    "id": "f7c0249d",
    "slideshow": {
     "slide_type": ""
    },
    "tags": []
   },
   "source": [
    "***\n",
    "6) Fix the following code by making `tricks` unique to every `Dog` object. (there are at least 3 different ways to solve this problem)"
   ]
  },
  {
   "cell_type": "code",
   "execution_count": null,
   "id": "7b26c206",
   "metadata": {
    "editable": true,
    "id": "7b26c206",
    "slideshow": {
     "slide_type": ""
    },
    "tags": []
   },
   "outputs": [],
   "source": [
    "class Dog:\n",
    "    def __init__(self, name):\n",
    "        self.name = name\n",
    "        self.tricks = []  # Instance attribute\n",
    "\n",
    "    def add_trick(self, trick):\n",
    "        self.tricks.append(trick)\n",
    "    \n",
    "d = Dog('Fido')\n",
    "e = Dog('Buddy')\n",
    "d.add_trick('roll over')\n",
    "e.add_trick('play dead')\n",
    "print(d.tricks)  # Output: ['roll over']\n",
    "print(e.tricks)  # Output: ['play dead']\n"
   ]
  },
  {
   "cell_type": "markdown",
   "id": "a4dbf86e",
   "metadata": {
    "editable": true,
    "id": "a4dbf86e",
    "slideshow": {
     "slide_type": ""
    },
    "tags": []
   },
   "source": [
    "***\n",
    "7) Modify the class `Employee` below. Make it so that the `promote()` method can accept any input, and uses the class attribute `pay_raise` by default.  \n",
    "\n",
    "Uncomment the last couple of lines - they should both work."
   ]
  },
  {
   "cell_type": "code",
   "execution_count": 15,
   "id": "f676d1a8",
   "metadata": {
    "id": "f676d1a8"
   },
   "outputs": [
    {
     "name": "stdout",
     "output_type": "stream",
     "text": [
      "550.0\n",
      "715.0\n"
     ]
    }
   ],
   "source": [
    "class Employee:\n",
    "    pay_raise = 1.1\n",
    "    \n",
    "    def __init__(self, name, wage=1000):\n",
    "        self.name = name\n",
    "        self.wage = wage\n",
    "        \n",
    "    def promote(self, raise_factor=None):\n",
    "        if raise_factor is None:\n",
    "            raise_factor = self.pay_raise\n",
    "        self.wage *= raise_factor\n",
    "\n",
    "bob = Employee(name=\"Bob\", wage=500)\n",
    "\n",
    "# Give Bob the default promotion of a 10% wage increase.\n",
    "bob.promote()\n",
    "print(bob.wage)  # Output: 550.0\n",
    "\n",
    "# Give Bob a promotion, increasing his wage by 30%.\n",
    "bob.promote(1.3)\n",
    "print(bob.wage)  # Output: 715.0\n"
   ]
  }
 ],
 "metadata": {
  "colab": {
   "provenance": []
  },
  "kernelspec": {
   "display_name": "Python 3 (ipykernel)",
   "language": "python",
   "name": "python3"
  },
  "language_info": {
   "codemirror_mode": {
    "name": "ipython",
    "version": 3
   },
   "file_extension": ".py",
   "mimetype": "text/x-python",
   "name": "python",
   "nbconvert_exporter": "python",
   "pygments_lexer": "ipython3",
   "version": "3.12.1"
  }
 },
 "nbformat": 4,
 "nbformat_minor": 5
}
